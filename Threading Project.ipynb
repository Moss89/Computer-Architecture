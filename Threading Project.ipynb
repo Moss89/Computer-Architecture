{
 "cells": [
  {
   "cell_type": "markdown",
   "metadata": {},
   "source": [
    "## Check CPU core count"
   ]
  },
  {
   "cell_type": "code",
   "execution_count": null,
   "metadata": {},
   "outputs": [],
   "source": [
    "# Check the number of CPU cores\n",
    "import multiprocessing as mp\n",
    "nprocs = mp.cpu_count()\n",
    "print(f\"Number of CPU cores: {nprocs}\")"
   ]
  },
  {
   "cell_type": "markdown",
   "metadata": {},
   "source": [
    "## Imports and pool_process definition"
   ]
  },
  {
   "cell_type": "code",
   "execution_count": null,
   "metadata": {},
   "outputs": [],
   "source": [
    "import time\n",
    "import math\n",
    "import multiprocessing\n",
    "from multiprocessing import Pool\n",
    "\n",
    "\n",
    "def pool_process(f, data, pool_size):\n",
    "    tp1 = time.time()\n",
    "    pool = multiprocessing.Pool(processes=pool_size) # initialize the Pool.\n",
    "    result = pool.map(f, data)       # map f to the data using the Pool of processes to do the work \n",
    "    pool.close() # No more processes\n",
    "    pool.join()  # Wait for the pool processing to complete. \n",
    "    print(\"Results\", result)\n",
    "    print(\"Overall Time:\",  int(time.time()-tp1))\n",
    " \n",
    "\n"
   ]
  },
  {
   "cell_type": "markdown",
   "metadata": {},
   "source": [
    "## Import the tests.py file which contains the prime number functions"
   ]
  },
  {
   "cell_type": "code",
   "execution_count": null,
   "metadata": {},
   "outputs": [],
   "source": [
    "import tests as tests # Import the prime number functions"
   ]
  },
  {
   "cell_type": "markdown",
   "metadata": {},
   "source": [
    "# Test run with number of cores and prime numbers stated:"
   ]
  },
  {
   "cell_type": "markdown",
   "metadata": {},
   "source": [
    "## 1 core, 12 numbers"
   ]
  },
  {
   "cell_type": "code",
   "execution_count": null,
   "metadata": {},
   "outputs": [],
   "source": [
    "for i in range (10):\n",
    "    \n",
    "    prlist = (15485557, 15485567, 15485581, 15485609, 15485611, 15485621, 15485651, 15485653, 15485669, 15485677, 15485689, 15485711)\n",
    "    #check whether or not the number in prlist is prime number with different cores.\n",
    "    pool_process(tests.check_prime_verbose,prlist,1)"
   ]
  },
  {
   "cell_type": "markdown",
   "metadata": {},
   "source": [
    "## 2 cores, 12 numbers"
   ]
  },
  {
   "cell_type": "code",
   "execution_count": null,
   "metadata": {},
   "outputs": [],
   "source": [
    "for i in range (10):\n",
    "    \n",
    "    prlist = (15485557, 15485567, 15485581, 15485609, 15485611, 15485621, 15485651, 15485653, 15485669, 15485677, 15485689, 15485711)\n",
    "    #check whether or not the number in prlist is prime number with different cores.\n",
    "    pool_process(tests.check_prime_verbose,prlist,2)"
   ]
  },
  {
   "cell_type": "markdown",
   "metadata": {},
   "source": [
    "## 3 cores, 12 numbers"
   ]
  },
  {
   "cell_type": "code",
   "execution_count": null,
   "metadata": {},
   "outputs": [],
   "source": [
    "for i in range (10):\n",
    "    \n",
    "    prlist = (15485557, 15485567, 15485581, 15485609, 15485611, 15485621, 15485651, 15485653, 15485669, 15485677, 15485689, 15485711)\n",
    "    #check whether or not the number in prlist is prime number with different cores.\n",
    "    pool_process(tests.check_prime_verbose,prlist,3)"
   ]
  },
  {
   "cell_type": "markdown",
   "metadata": {},
   "source": [
    "## 4 cores, 12 numbers"
   ]
  },
  {
   "cell_type": "code",
   "execution_count": null,
   "metadata": {},
   "outputs": [],
   "source": [
    "for i in range (10):\n",
    "    \n",
    "    prlist = (15485557, 15485567, 15485581, 15485609, 15485611, 15485621, 15485651, 15485653, 15485669, 15485677, 15485689, 15485711)\n",
    "    #check whether or not the number in prlist is prime number with different cores.\n",
    "    pool_process(tests.check_prime_verbose,prlist,4)"
   ]
  },
  {
   "cell_type": "markdown",
   "metadata": {},
   "source": [
    "## 1 core, 24 numbers"
   ]
  },
  {
   "cell_type": "code",
   "execution_count": null,
   "metadata": {
    "scrolled": true
   },
   "outputs": [],
   "source": [
    "for i in range (10):\n",
    "    \n",
    "    prlist = (15485557, 15485567, 15485581, 15485609, 15485611, 15485621, 15485651, 15485653, 15485669, 15485677, 15485689, 15485711, 15485737, 15485747, 15485761, 15485773, 15485783, 15485801, 15485807, 15485837, 15485843, 15485849, 15485857, 15485863)\n",
    "    #check whether or not the number in prlist is prime number with different cores.\n",
    "    pool_process(tests.check_prime_verbose,prlist,1)"
   ]
  },
  {
   "cell_type": "markdown",
   "metadata": {},
   "source": [
    "## 2 cores, 24 numbers"
   ]
  },
  {
   "cell_type": "code",
   "execution_count": null,
   "metadata": {},
   "outputs": [],
   "source": [
    "for i in range (10):\n",
    "    \n",
    "    prlist = (15485557, 15485567, 15485581, 15485609, 15485611, 15485621, 15485651, 15485653, 15485669, 15485677, 15485689, 15485711, 15485737, 15485747, 15485761, 15485773, 15485783, 15485801, 15485807, 15485837, 15485843, 15485849, 15485857, 15485863)\n",
    "    #check whether or not the number in prlist is prime number with different cores.\n",
    "    pool_process(tests.check_prime_verbose,prlist,2)"
   ]
  },
  {
   "cell_type": "markdown",
   "metadata": {},
   "source": [
    "## 3 cores, 24 numbers"
   ]
  },
  {
   "cell_type": "code",
   "execution_count": null,
   "metadata": {},
   "outputs": [],
   "source": [
    "for i in range (10):\n",
    "    \n",
    "    prlist = (15485557, 15485567, 15485581, 15485609, 15485611, 15485621, 15485651, 15485653, 15485669, 15485677, 15485689, 15485711, 15485737, 15485747, 15485761, 15485773, 15485783, 15485801, 15485807, 15485837, 15485843, 15485849, 15485857, 15485863)\n",
    "    #check whether or not the number in prlist is prime number with different cores.\n",
    "    pool_process(tests.check_prime_verbose,prlist,3)"
   ]
  },
  {
   "cell_type": "markdown",
   "metadata": {},
   "source": [
    "## 4 cores, 24 numbers"
   ]
  },
  {
   "cell_type": "code",
   "execution_count": null,
   "metadata": {},
   "outputs": [],
   "source": [
    "for i in range (10):\n",
    "    \n",
    "    prlist = (15485557, 15485567, 15485581, 15485609, 15485611, 15485621, 15485651, 15485653, 15485669, 15485677, 15485689, 15485711, 15485737, 15485747, 15485761, 15485773, 15485783, 15485801, 15485807, 15485837, 15485843, 15485849, 15485857, 15485863)\n",
    "    #check whether or not the number in prlist is prime number with different cores.\n",
    "    pool_process(tests.check_prime_verbose,prlist,4)"
   ]
  },
  {
   "cell_type": "markdown",
   "metadata": {},
   "source": [
    "## 1 core, 48 numbers"
   ]
  },
  {
   "cell_type": "code",
   "execution_count": null,
   "metadata": {},
   "outputs": [],
   "source": [
    "for i in range (10):\n",
    "    \n",
    "    prlist = (15485557, 15485567, 15485581, 15485609, 15485611, 15485621, 15485651, 15485653, 15485669, 15485677, 15485689, 15485711, 15485737, 15485747, 15485761, 15485773, 15485783, 15485801, 15485807, 15485837, 15485843, 15485849, 15485857, \n",
    "              15485863, 15486041, 15486209, 15486347, 15486517, 15486719, 15486833, 15486953, 15487097, 15487291, 15487469, 15487639, 15487861, 15487973, 15488113, 15488279, 15488497, 15488651, 15488789, 15488953, 15485867, 15486047, 15486221, 15486421, 15486533)\n",
    "    #check whether or not the number in prlist is prime number with different cores.\n",
    "    pool_process(tests.check_prime_verbose,prlist,1)"
   ]
  },
  {
   "cell_type": "markdown",
   "metadata": {},
   "source": [
    "## 2 cores, 48 numbers"
   ]
  },
  {
   "cell_type": "code",
   "execution_count": null,
   "metadata": {},
   "outputs": [],
   "source": [
    "for i in range (10):\n",
    "    \n",
    "    prlist = (15485557, 15485567, 15485581, 15485609, 15485611, 15485621, 15485651, 15485653, 15485669, 15485677, 15485689, 15485711, 15485737, 15485747, 15485761, 15485773, 15485783, 15485801, 15485807, 15485837, 15485843, 15485849, 15485857, \n",
    "              15485863, 15486041, 15486209, 15486347, 15486517, 15486719, 15486833, 15486953, 15487097, 15487291, 15487469, 15487639, 15487861, 15487973, 15488113, 15488279, 15488497, 15488651, 15488789, 15488953, 15485867, 15486047, 15486221, 15486421, 15486533)\n",
    "    #check whether or not the number in prlist is prime number with different cores.\n",
    "    pool_process(tests.check_prime_verbose,prlist,2)"
   ]
  },
  {
   "cell_type": "markdown",
   "metadata": {},
   "source": [
    "## 3 cores, 48 numbers"
   ]
  },
  {
   "cell_type": "code",
   "execution_count": null,
   "metadata": {},
   "outputs": [],
   "source": [
    "for i in range (10):\n",
    "    \n",
    "    prlist = (15485557, 15485567, 15485581, 15485609, 15485611, 15485621, 15485651, 15485653, 15485669, 15485677, 15485689, 15485711, 15485737, 15485747, 15485761, 15485773, 15485783, 15485801, 15485807, 15485837, 15485843, 15485849, 15485857, \n",
    "              15485863, 15486041, 15486209, 15486347, 15486517, 15486719, 15486833, 15486953, 15487097, 15487291, 15487469, 15487639, 15487861, 15487973, 15488113, 15488279, 15488497, 15488651, 15488789, 15488953, 15485867, 15486047, 15486221, 15486421, 15486533)\n",
    "    #check whether or not the number in prlist is prime number with different cores.\n",
    "    pool_process(tests.check_prime_verbose,prlist,3)"
   ]
  },
  {
   "cell_type": "markdown",
   "metadata": {},
   "source": [
    "## 4 cores, 48 numbers"
   ]
  },
  {
   "cell_type": "code",
   "execution_count": null,
   "metadata": {},
   "outputs": [],
   "source": [
    "for i in range (10):\n",
    "    \n",
    "    prlist = (15485557, 15485567, 15485581, 15485609, 15485611, 15485621, 15485651, 15485653, 15485669, 15485677, 15485689, 15485711, 15485737, 15485747, 15485761, 15485773, 15485783, 15485801, 15485807, 15485837, 15485843, 15485849, 15485857, \n",
    "              15485863, 15486041, 15486209, 15486347, 15486517, 15486719, 15486833, 15486953, 15487097, 15487291, 15487469, 15487639, 15487861, 15487973, 15488113, 15488279, 15488497, 15488651, 15488789, 15488953, 15485867, 15486047, 15486221, 15486421, 15486533)\n",
    "    #check whether or not the number in prlist is prime number with different cores.\n",
    "    pool_process(tests.check_prime_verbose,prlist,4)"
   ]
  },
  {
   "cell_type": "code",
   "execution_count": null,
   "metadata": {},
   "outputs": [],
   "source": []
  },
  {
   "cell_type": "code",
   "execution_count": null,
   "metadata": {},
   "outputs": [],
   "source": []
  }
 ],
 "metadata": {
  "kernelspec": {
   "display_name": "Python 3",
   "language": "python",
   "name": "python3"
  },
  "language_info": {
   "codemirror_mode": {
    "name": "ipython",
    "version": 3
   },
   "file_extension": ".py",
   "mimetype": "text/x-python",
   "name": "python",
   "nbconvert_exporter": "python",
   "pygments_lexer": "ipython3",
   "version": "3.7.0"
  }
 },
 "nbformat": 4,
 "nbformat_minor": 2
}
